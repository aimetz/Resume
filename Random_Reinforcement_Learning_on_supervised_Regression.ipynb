{
  "nbformat": 4,
  "nbformat_minor": 0,
  "metadata": {
    "colab": {
      "name": "Random Reinforcement Learning on supervised Regression.ipynb",
      "provenance": [],
      "collapsed_sections": [],
      "authorship_tag": "ABX9TyPKqaXceqYKRIrpZkUcTRQ3",
      "include_colab_link": true
    },
    "kernelspec": {
      "name": "python3",
      "display_name": "Python 3"
    },
    "language_info": {
      "name": "python"
    }
  },
  "cells": [
    {
      "cell_type": "markdown",
      "metadata": {
        "id": "view-in-github",
        "colab_type": "text"
      },
      "source": [
        "<a href=\"https://colab.research.google.com/github/aimetz/Resume/blob/main/Random_Reinforcement_Learning_on_supervised_Regression.ipynb\" target=\"_parent\"><img src=\"https://colab.research.google.com/assets/colab-badge.svg\" alt=\"Open In Colab\"/></a>"
      ]
    },
    {
      "cell_type": "code",
      "metadata": {
        "id": "3ZWIUGptWMwG"
      },
      "source": [
        "import numpy as np\n",
        "\n",
        "\n",
        "class Layer:\n",
        "    def __init__(self, n_inputs, n_neurons):\n",
        "        self.size = (n_inputs, n_neurons)\n",
        "        self.weights = np.random.randn(n_inputs, n_neurons)\n",
        "        self.bias = np.zeros((1, n_neurons))\n",
        "\n",
        "    def __repr__(self):\n",
        "        return \"Weights:\\n{}\\nBias:\\n{}\\n\".format(self.weights, self.bias) \n",
        "    \n",
        "    \n",
        "    def forward(self, inputs):\n",
        "        self.output = np.dot(inputs, self.weights) + self.bias\n",
        "        return self.output\n",
        "    \n",
        "    def lin_rect_act(self):\n",
        "        self.output_act = np.maximum(0, self.output)\n",
        "        return self.output_act\n",
        "\n",
        "    def sigmoid_act(self):\n",
        "        self.output_act = 1/(1+np.power(np.e, self.output))\n",
        "        return self.output_act\n",
        "    \n",
        "    def mutate(self, intensity):\n",
        "        new = Layer(self.size[0], self.size[1])\n",
        "        new.weights = self.weights+.001*intensity*np.random.randn(self.size[0], self.size[1])\n",
        "        new.bias = self.bias+.001*intensity*np.random.randn(1, self.size[1])\n",
        "        return new\n",
        "\n",
        "\n",
        "class NN:\n",
        "    def __init__(self, num_layers, sizes):\n",
        "        self.nl = num_layers\n",
        "        self.sizes = sizes\n",
        "        if num_layers != len(sizes)-1:\n",
        "            raise ValueError\n",
        "        self.layers = [None]*num_layers\n",
        "        for i in range(num_layers):\n",
        "            self.layers[i] = Layer(sizes[i], sizes[i+1])\n",
        "\n",
        "    def __repr__(self):\n",
        "        return \"Sizes:\\n{}\\nLayers:\\n{}\".format(self.sizes, self.layers)\n",
        "\n",
        "            \n",
        "    def f_pass(self, inputs, how=\"lin_rect\"):\n",
        "        if type(inputs) == pd.DataFrame:\n",
        "            self.output = inputs.values#np.array([inputs.values.tolist()]).T.tolist()\n",
        "        else:\n",
        "            self.output = inputs\n",
        "        for i in range(self.nl):\n",
        "            self.output = self.layers[i].forward(self.output)\n",
        "            if i < self.nl-1 and how == \"sigmoid\":\n",
        "                self.output = self.layers[i].sigmoid_act()\n",
        "            elif i < self.nl-1 and how == \"lin_rect\":\n",
        "                self.output = self.layers[i].lin_rect_act()\n",
        "        return self.output\n",
        "\n",
        "    def mutate(self, intensity):\n",
        "       new = NN(self.nl, self.sizes)\n",
        "       for i, layer in enumerate(self.layers):\n",
        "           new.layers[i] = layer.mutate(intensity)\n",
        "       return new\n"
      ],
      "execution_count": 2,
      "outputs": []
    },
    {
      "cell_type": "code",
      "metadata": {
        "id": "VPTEhgKSraHb"
      },
      "source": [
        "class Generation:\n",
        "    def __init__(self, population, sizes=None, initial=False):\n",
        "        if initial:\n",
        "            NNs = [None] * population\n",
        "            for i in range(population):\n",
        "                NNs[i] = NN(len(sizes)-1, sizes)\n",
        "            self.pop = NNs\n",
        "            self.sizes = sizes\n",
        "        else:\n",
        "            self.pop = population\n",
        "\n",
        "\n",
        "    def f_pass(self, data, label=None, how=\"lin_rect\"):\n",
        "        size = len(self.pop)\n",
        "        y_ = [None] * size\n",
        "        errors = [None] * size\n",
        "        for i in range(size):\n",
        "            y_[i] = self.pop[i].f_pass(data, how=how)\n",
        "            if label is not None:\n",
        "                errors[i] = np.sqrt((label - y_[i].T[0])**2).mean()\n",
        "        if label is not None:\n",
        "            self.errors = pd.Series(errors).sort_values()\n",
        "        return y_\n",
        "\n",
        "    def f_pass_sep_inputs(self, data, label=None, how=\"lin_rect\"):\n",
        "        size = len(self.pop)\n",
        "        y_ = [None] * size\n",
        "        errors = [None] * size\n",
        "        for i in range(size):\n",
        "            y_[i] = self.pop[i].f_pass(data[i], how=how)\n",
        "        return y_\n",
        "\n",
        "    def next_gen(self):\n",
        "        survivors = 5\n",
        "        best = self.errors.index.tolist()[:survivors]\n",
        "        next_gen = [None]*survivors*201\n",
        "        for i, index in enumerate(best):\n",
        "            next_gen[i] = self.pop[index]\n",
        "            for ten in range(100):\n",
        "                if i<2:\n",
        "                    for q in range(2):\n",
        "                        next_gen[i*200+ten*2+q+5] = self.pop[index].mutate(ten)\n",
        "                else:\n",
        "                    next_gen[i*200+ten*2+5] = self.pop[index].mutate(ten)\n",
        "                    next_gen[i*200+ten*2+6] = NN(len(self.sizes)-1, self.sizes)\n",
        "        g = Generation(next_gen)\n",
        "        g.sizes = self.sizes\n",
        "        return g"
      ],
      "execution_count": null,
      "outputs": []
    },
    {
      "cell_type": "code",
      "metadata": {
        "id": "6gjyisIliBzx"
      },
      "source": [
        "# def rand_train(shape, x, starting=1000, gens=10): \n",
        "#     gen = Generation(starting, shape, True)\n",
        "#     errs = pd.Series(dtype=float)\n",
        "#     for i in range(gens):\n",
        "#         print(str(100*i//gens)+\"% Done\")\n",
        "#         gen.f_pass(x, y)\n",
        "#         errs.loc[i] = gen.errors.iloc[0]\n",
        "#         gen = gen.next_gen()\n",
        "#         clear_output()\n",
        "#     gen.f_pass(x, y)\n",
        "#     ind = gen.errors.index[0]\n",
        "#     return pd.Series(gen.pop[ind].f_pass(x).T[0]), errs "
      ],
      "execution_count": null,
      "outputs": []
    },
    {
      "cell_type": "code",
      "metadata": {
        "id": "RZXkG8wjNQwx"
      },
      "source": [
        "from IPython.display import clear_output\n",
        "def rand_train(shape, x, y, starting=1000, gens=10, how=\"lin_rect\"): \n",
        "    gen = Generation(starting, shape, True)\n",
        "    errs = pd.Series(dtype=float)\n",
        "    for i in range(gens):\n",
        "        print(str(100*i//gens)+\"% Done\")\n",
        "        gen.f_pass(x, y, how=how)\n",
        "        errs.loc[i] = gen.errors.iloc[0]\n",
        "        gen = gen.next_gen()\n",
        "        clear_output()\n",
        "    gen.f_pass(x, y)\n",
        "    ind = gen.errors.index[0]\n",
        "    return pd.Series(gen.pop[ind].f_pass(x).T[0]), errs, gen.pop[ind]\n"
      ],
      "execution_count": null,
      "outputs": []
    },
    {
      "cell_type": "code",
      "metadata": {
        "colab": {
          "base_uri": "https://localhost:8080/",
          "height": 297
        },
        "id": "jGO9yS93ccz0",
        "outputId": "51dcd8b1-0bde-4b33-b429-1dc34d4cc444"
      },
      "source": [
        "import pandas as pd\n",
        "\n",
        "x = np.array(range(100))\n",
        "y = np.sqrt(x)/10\n",
        "Data = pd.Series(y, index=x)\n",
        "Data.plot.line(title =\"A function to practice modeling\")"
      ],
      "execution_count": 3,
      "outputs": [
        {
          "output_type": "execute_result",
          "data": {
            "text/plain": [
              "<matplotlib.axes._subplots.AxesSubplot at 0x7f9c6384abd0>"
            ]
          },
          "metadata": {
            "tags": []
          },
          "execution_count": 3
        },
        {
          "output_type": "display_data",
          "data": {
            "image/png": "[encoded data removed]",
            "text/plain": [
              "<Figure size 432x288 with 1 Axes>"
            ]
          },
          "metadata": {
            "tags": [],
            "needs_background": "light"
          }
        }
      ]
    },
    {
      "cell_type": "code",
      "metadata": {
        "colab": {
          "base_uri": "https://localhost:8080/",
          "height": 298
        },
        "id": "gV4CAFdp9CHM",
        "outputId": "4d744a5b-3f97-4aee-b22f-c5defe290367"
      },
      "source": [
        "reg = rand_train([1, 10, 10, 10, 1], np.array([Data.index]).T, Data.values, gens=30, how=\"lin_rect\")\n",
        "reg[1].plot.line(title = \"root mean squared error by generation\")"
      ],
      "execution_count": null,
      "outputs": [
        {
          "output_type": "execute_result",
          "data": {
            "text/plain": [
              "<matplotlib.axes._subplots.AxesSubplot at 0x7f409ae04450>"
            ]
          },
          "metadata": {
            "tags": []
          },
          "execution_count": 121
        },
        {
          "output_type": "display_data",
          "data": {
            "image/png": "[encoded data removed]",
            "text/plain": [
              "<Figure size 432x288 with 1 Axes>"
            ]
          },
          "metadata": {
            "tags": [],
            "needs_background": "light"
          }
        }
      ]
    },
    {
      "cell_type": "code",
      "metadata": {
        "colab": {
          "base_uri": "https://localhost:8080/",
          "height": 298
        },
        "id": "r9yvH8_-9LVJ",
        "outputId": "d243286a-eeaf-4c2c-d96e-176b676ce66a"
      },
      "source": [
        "reg[0].plot.line()\n",
        "Data.plot.line(title = \"Pred vs Actual\")"
      ],
      "execution_count": null,
      "outputs": [
        {
          "output_type": "execute_result",
          "data": {
            "text/plain": [
              "<matplotlib.axes._subplots.AxesSubplot at 0x7f409ad33850>"
            ]
          },
          "metadata": {
            "tags": []
          },
          "execution_count": 122
        },
        {
          "output_type": "display_data",
          "data": {
            "image/png": "[encoded data removed]",
            "text/plain": [
              "<Figure size 432x288 with 1 Axes>"
            ]
          },
          "metadata": {
            "tags": [],
            "needs_background": "light"
          }
        }
      ]
    },
    {
      "cell_type": "code",
      "metadata": {
        "colab": {
          "base_uri": "https://localhost:8080/",
          "height": 419
        },
        "id": "HMIK9dlDFYFi",
        "outputId": "44c2455f-9588-4812-abc1-f350edfeded0"
      },
      "source": [
        "tips = pd.read_csv(\"https://dlsun.github.io/pods/data/\"+\"tips.csv\")\n",
        "tips"
      ],
      "execution_count": null,
      "outputs": [
        {
          "output_type": "execute_result",
          "data": {
            "text/html": [
              "<div>\n",
              "<style scoped>\n",
              "    .dataframe tbody tr th:only-of-type {\n",
              "        vertical-align: middle;\n",
              "    }\n",
              "\n",
              "    .dataframe tbody tr th {\n",
              "        vertical-align: top;\n",
              "    }\n",
              "\n",
              "    .dataframe thead th {\n",
              "        text-align: right;\n",
              "    }\n",
              "</style>\n",
              "<table border=\"1\" class=\"dataframe\">\n",
              "  <thead>\n",
              "    <tr style=\"text-align: right;\">\n",
              "      <th></th>\n",
              "      <th>total_bill</th>\n",
              "      <th>tip</th>\n",
              "      <th>sex</th>\n",
              "      <th>smoker</th>\n",
              "      <th>day</th>\n",
              "      <th>time</th>\n",
              "      <th>size</th>\n",
              "    </tr>\n",
              "  </thead>\n",
              "  <tbody>\n",
              "    <tr>\n",
              "      <th>0</th>\n",
              "      <td>16.99</td>\n",
              "      <td>1.01</td>\n",
              "      <td>Female</td>\n",
              "      <td>No</td>\n",
              "      <td>Sun</td>\n",
              "      <td>Dinner</td>\n",
              "      <td>2</td>\n",
              "    </tr>\n",
              "    <tr>\n",
              "      <th>1</th>\n",
              "      <td>10.34</td>\n",
              "      <td>1.66</td>\n",
              "      <td>Male</td>\n",
              "      <td>No</td>\n",
              "      <td>Sun</td>\n",
              "      <td>Dinner</td>\n",
              "      <td>3</td>\n",
              "    </tr>\n",
              "    <tr>\n",
              "      <th>2</th>\n",
              "      <td>21.01</td>\n",
              "      <td>3.50</td>\n",
              "      <td>Male</td>\n",
              "      <td>No</td>\n",
              "      <td>Sun</td>\n",
              "      <td>Dinner</td>\n",
              "      <td>3</td>\n",
              "    </tr>\n",
              "    <tr>\n",
              "      <th>3</th>\n",
              "      <td>23.68</td>\n",
              "      <td>3.31</td>\n",
              "      <td>Male</td>\n",
              "      <td>No</td>\n",
              "      <td>Sun</td>\n",
              "      <td>Dinner</td>\n",
              "      <td>2</td>\n",
              "    </tr>\n",
              "    <tr>\n",
              "      <th>4</th>\n",
              "      <td>24.59</td>\n",
              "      <td>3.61</td>\n",
              "      <td>Female</td>\n",
              "      <td>No</td>\n",
              "      <td>Sun</td>\n",
              "      <td>Dinner</td>\n",
              "      <td>4</td>\n",
              "    </tr>\n",
              "    <tr>\n",
              "      <th>...</th>\n",
              "      <td>...</td>\n",
              "      <td>...</td>\n",
              "      <td>...</td>\n",
              "      <td>...</td>\n",
              "      <td>...</td>\n",
              "      <td>...</td>\n",
              "      <td>...</td>\n",
              "    </tr>\n",
              "    <tr>\n",
              "      <th>239</th>\n",
              "      <td>29.03</td>\n",
              "      <td>5.92</td>\n",
              "      <td>Male</td>\n",
              "      <td>No</td>\n",
              "      <td>Sat</td>\n",
              "      <td>Dinner</td>\n",
              "      <td>3</td>\n",
              "    </tr>\n",
              "    <tr>\n",
              "      <th>240</th>\n",
              "      <td>27.18</td>\n",
              "      <td>2.00</td>\n",
              "      <td>Female</td>\n",
              "      <td>Yes</td>\n",
              "      <td>Sat</td>\n",
              "      <td>Dinner</td>\n",
              "      <td>2</td>\n",
              "    </tr>\n",
              "    <tr>\n",
              "      <th>241</th>\n",
              "      <td>22.67</td>\n",
              "      <td>2.00</td>\n",
              "      <td>Male</td>\n",
              "      <td>Yes</td>\n",
              "      <td>Sat</td>\n",
              "      <td>Dinner</td>\n",
              "      <td>2</td>\n",
              "    </tr>\n",
              "    <tr>\n",
              "      <th>242</th>\n",
              "      <td>17.82</td>\n",
              "      <td>1.75</td>\n",
              "      <td>Male</td>\n",
              "      <td>No</td>\n",
              "      <td>Sat</td>\n",
              "      <td>Dinner</td>\n",
              "      <td>2</td>\n",
              "    </tr>\n",
              "    <tr>\n",
              "      <th>243</th>\n",
              "      <td>18.78</td>\n",
              "      <td>3.00</td>\n",
              "      <td>Female</td>\n",
              "      <td>No</td>\n",
              "      <td>Thur</td>\n",
              "      <td>Dinner</td>\n",
              "      <td>2</td>\n",
              "    </tr>\n",
              "  </tbody>\n",
              "</table>\n",
              "<p>244 rows × 7 columns</p>\n",
              "</div>"
            ],
            "text/plain": [
              "     total_bill   tip     sex smoker   day    time  size\n",
              "0         16.99  1.01  Female     No   Sun  Dinner     2\n",
              "1         10.34  1.66    Male     No   Sun  Dinner     3\n",
              "2         21.01  3.50    Male     No   Sun  Dinner     3\n",
              "3         23.68  3.31    Male     No   Sun  Dinner     2\n",
              "4         24.59  3.61  Female     No   Sun  Dinner     4\n",
              "..          ...   ...     ...    ...   ...     ...   ...\n",
              "239       29.03  5.92    Male     No   Sat  Dinner     3\n",
              "240       27.18  2.00  Female    Yes   Sat  Dinner     2\n",
              "241       22.67  2.00    Male    Yes   Sat  Dinner     2\n",
              "242       17.82  1.75    Male     No   Sat  Dinner     2\n",
              "243       18.78  3.00  Female     No  Thur  Dinner     2\n",
              "\n",
              "[244 rows x 7 columns]"
            ]
          },
          "metadata": {
            "tags": []
          },
          "execution_count": 54
        }
      ]
    },
    {
      "cell_type": "code",
      "metadata": {
        "colab": {
          "base_uri": "https://localhost:8080/",
          "height": 313
        },
        "id": "HJIXV6zVFz95",
        "outputId": "77838fa1-d27a-45fc-8724-68023bee7371"
      },
      "source": [
        "tips.plot.scatter(x=\"total_bill\", y='tip', title = \"Total Bill vs Tip\")"
      ],
      "execution_count": null,
      "outputs": [
        {
          "output_type": "execute_result",
          "data": {
            "text/plain": [
              "<matplotlib.axes._subplots.AxesSubplot at 0x7f409c9bd850>"
            ]
          },
          "metadata": {
            "tags": []
          },
          "execution_count": 56
        },
        {
          "output_type": "display_data",
          "data": {
            "image/png": "[encoded data removed]",
            "text/plain": [
              "<Figure size 432x288 with 1 Axes>"
            ]
          },
          "metadata": {
            "tags": [],
            "needs_background": "light"
          }
        }
      ]
    },
    {
      "cell_type": "code",
      "metadata": {
        "colab": {
          "base_uri": "https://localhost:8080/",
          "height": 298
        },
        "id": "4DAim39MF9tN",
        "outputId": "129e6a4f-f33f-4bee-e7b1-182400b65e99"
      },
      "source": [
        "reg = rand_train([1, 10, 10, 10, 1], tips[[\"total_bill\"]], tips[\"tip\"], gens=30, how=\"lin_rect\")\n",
        "reg[1].plot.line(title = \"root mean squared error by generation\")"
      ],
      "execution_count": null,
      "outputs": [
        {
          "output_type": "execute_result",
          "data": {
            "text/plain": [
              "<matplotlib.axes._subplots.AxesSubplot at 0x7f409bde5850>"
            ]
          },
          "metadata": {
            "tags": []
          },
          "execution_count": 89
        },
        {
          "output_type": "display_data",
          "data": {
            "image/png": "[encoded data removed]",
            "text/plain": [
              "<Figure size 432x288 with 1 Axes>"
            ]
          },
          "metadata": {
            "tags": [],
            "needs_background": "light"
          }
        }
      ]
    },
    {
      "cell_type": "code",
      "metadata": {
        "colab": {
          "base_uri": "https://localhost:8080/",
          "height": 297
        },
        "id": "jP787x5QIBy3",
        "outputId": "581b1b72-0861-4131-acb3-a7036ccd3fe7"
      },
      "source": [
        "pred = pd.Series(reg[2].f_pass(pd.DataFrame(range(50))).T[0])\n",
        "tips.plot.scatter(x=\"total_bill\", y='tip')\n",
        "pred.plot.line()"
      ],
      "execution_count": null,
      "outputs": [
        {
          "output_type": "execute_result",
          "data": {
            "text/plain": [
              "<matplotlib.axes._subplots.AxesSubplot at 0x7f409bdf41d0>"
            ]
          },
          "metadata": {
            "tags": []
          },
          "execution_count": 90
        },
        {
          "output_type": "display_data",
          "data": {
            "image/png": "[encoded data removed]",
            "text/plain": [
              "<Figure size 432x288 with 1 Axes>"
            ]
          },
          "metadata": {
            "tags": [],
            "needs_background": "light"
          }
        }
      ]
    },
    {
      "cell_type": "code",
      "metadata": {
        "colab": {
          "base_uri": "https://localhost:8080/",
          "height": 298
        },
        "id": "5hs6OqSyLWr6",
        "outputId": "78c46ffe-642e-4c68-fddd-f4e385d093f2"
      },
      "source": [
        "reg = rand_train([2, 10, 20, 10, 1], tips[[\"total_bill\", \"size\"]], tips[\"tip\"], gens=30, how=\"lin_rect\")\n",
        "reg[1].plot.line(title = \"root mean squared error by generation\")"
      ],
      "execution_count": null,
      "outputs": [
        {
          "output_type": "execute_result",
          "data": {
            "text/plain": [
              "<matplotlib.axes._subplots.AxesSubplot at 0x7f409bcb6750>"
            ]
          },
          "metadata": {
            "tags": []
          },
          "execution_count": 73
        },
        {
          "output_type": "display_data",
          "data": {
            "image/png": "[encoded data removed]",
            "text/plain": [
              "<Figure size 432x288 with 1 Axes>"
            ]
          },
          "metadata": {
            "tags": [],
            "needs_background": "light"
          }
        }
      ]
    },
    {
      "cell_type": "code",
      "metadata": {
        "colab": {
          "base_uri": "https://localhost:8080/",
          "height": 419
        },
        "id": "giOqUFEwLqU2",
        "outputId": "aa6a1499-b621-4970-88c0-5b280df280a7"
      },
      "source": [
        "new = tips[[\"total_bill\", \"size\"]].merge(pd.get_dummies(tips[\"sex\"]), left_index=True, right_index=True)\n",
        "new"
      ],
      "execution_count": null,
      "outputs": [
        {
          "output_type": "execute_result",
          "data": {
            "text/html": [
              "<div>\n",
              "<style scoped>\n",
              "    .dataframe tbody tr th:only-of-type {\n",
              "        vertical-align: middle;\n",
              "    }\n",
              "\n",
              "    .dataframe tbody tr th {\n",
              "        vertical-align: top;\n",
              "    }\n",
              "\n",
              "    .dataframe thead th {\n",
              "        text-align: right;\n",
              "    }\n",
              "</style>\n",
              "<table border=\"1\" class=\"dataframe\">\n",
              "  <thead>\n",
              "    <tr style=\"text-align: right;\">\n",
              "      <th></th>\n",
              "      <th>total_bill</th>\n",
              "      <th>size</th>\n",
              "      <th>Female</th>\n",
              "      <th>Male</th>\n",
              "    </tr>\n",
              "  </thead>\n",
              "  <tbody>\n",
              "    <tr>\n",
              "      <th>0</th>\n",
              "      <td>16.99</td>\n",
              "      <td>2</td>\n",
              "      <td>1</td>\n",
              "      <td>0</td>\n",
              "    </tr>\n",
              "    <tr>\n",
              "      <th>1</th>\n",
              "      <td>10.34</td>\n",
              "      <td>3</td>\n",
              "      <td>0</td>\n",
              "      <td>1</td>\n",
              "    </tr>\n",
              "    <tr>\n",
              "      <th>2</th>\n",
              "      <td>21.01</td>\n",
              "      <td>3</td>\n",
              "      <td>0</td>\n",
              "      <td>1</td>\n",
              "    </tr>\n",
              "    <tr>\n",
              "      <th>3</th>\n",
              "      <td>23.68</td>\n",
              "      <td>2</td>\n",
              "      <td>0</td>\n",
              "      <td>1</td>\n",
              "    </tr>\n",
              "    <tr>\n",
              "      <th>4</th>\n",
              "      <td>24.59</td>\n",
              "      <td>4</td>\n",
              "      <td>1</td>\n",
              "      <td>0</td>\n",
              "    </tr>\n",
              "    <tr>\n",
              "      <th>...</th>\n",
              "      <td>...</td>\n",
              "      <td>...</td>\n",
              "      <td>...</td>\n",
              "      <td>...</td>\n",
              "    </tr>\n",
              "    <tr>\n",
              "      <th>239</th>\n",
              "      <td>29.03</td>\n",
              "      <td>3</td>\n",
              "      <td>0</td>\n",
              "      <td>1</td>\n",
              "    </tr>\n",
              "    <tr>\n",
              "      <th>240</th>\n",
              "      <td>27.18</td>\n",
              "      <td>2</td>\n",
              "      <td>1</td>\n",
              "      <td>0</td>\n",
              "    </tr>\n",
              "    <tr>\n",
              "      <th>241</th>\n",
              "      <td>22.67</td>\n",
              "      <td>2</td>\n",
              "      <td>0</td>\n",
              "      <td>1</td>\n",
              "    </tr>\n",
              "    <tr>\n",
              "      <th>242</th>\n",
              "      <td>17.82</td>\n",
              "      <td>2</td>\n",
              "      <td>0</td>\n",
              "      <td>1</td>\n",
              "    </tr>\n",
              "    <tr>\n",
              "      <th>243</th>\n",
              "      <td>18.78</td>\n",
              "      <td>2</td>\n",
              "      <td>1</td>\n",
              "      <td>0</td>\n",
              "    </tr>\n",
              "  </tbody>\n",
              "</table>\n",
              "<p>244 rows × 4 columns</p>\n",
              "</div>"
            ],
            "text/plain": [
              "     total_bill  size  Female  Male\n",
              "0         16.99     2       1     0\n",
              "1         10.34     3       0     1\n",
              "2         21.01     3       0     1\n",
              "3         23.68     2       0     1\n",
              "4         24.59     4       1     0\n",
              "..          ...   ...     ...   ...\n",
              "239       29.03     3       0     1\n",
              "240       27.18     2       1     0\n",
              "241       22.67     2       0     1\n",
              "242       17.82     2       0     1\n",
              "243       18.78     2       1     0\n",
              "\n",
              "[244 rows x 4 columns]"
            ]
          },
          "metadata": {
            "tags": []
          },
          "execution_count": 74
        }
      ]
    },
    {
      "cell_type": "code",
      "metadata": {
        "colab": {
          "base_uri": "https://localhost:8080/",
          "height": 298
        },
        "id": "esDURBuqOUYU",
        "outputId": "230daceb-7f12-4f48-fc8b-48e4c637b756"
      },
      "source": [
        "from sklearn.preprocessing import StandardScaler\n",
        "scaler = StandardScaler()\n",
        "X_train_st = scaler.fit_transform(new)\n",
        "a = rand_train(x=pd.DataFrame(X_train_st), y=tips[\"tip\"], shape=[4, 30, 20, 10, 1], gens=100, how=\"sigmoid\")\n",
        "a[1].plot.line(title = \"root mean squared error by generation\")"
      ],
      "execution_count": null,
      "outputs": [
        {
          "output_type": "execute_result",
          "data": {
            "text/plain": [
              "<matplotlib.axes._subplots.AxesSubplot at 0x7f409c425710>"
            ]
          },
          "metadata": {
            "tags": []
          },
          "execution_count": 78
        },
        {
          "output_type": "display_data",
          "data": {
            "image/png": "[encoded data removed]",
            "text/plain": [
              "<Figure size 432x288 with 1 Axes>"
            ]
          },
          "metadata": {
            "tags": [],
            "needs_background": "light"
          }
        }
      ]
    },
    {
      "cell_type": "code",
      "metadata": {
        "colab": {
          "base_uri": "https://localhost:8080/"
        },
        "id": "SrzRaDYSRRuO",
        "outputId": "edbf02f4-db1b-4e78-e68d-102c10c8bb6e"
      },
      "source": [
        "print(\"Root Mean Squared Error on Training data for my method: \" + str(a[1][99])+\n",
        "\"\\nmy predictions were on average 67.7 cents away from the correct tip\")"
      ],
      "execution_count": null,
      "outputs": [
        {
          "output_type": "stream",
          "text": [
            "Root Mean Squared Error on Training data for my method: 0.6771494368216777\n",
            "my predictions were on average 67.7 cents away from the correct tip\n"
          ],
          "name": "stdout"
        }
      ]
    },
    {
      "cell_type": "code",
      "metadata": {
        "colab": {
          "base_uri": "https://localhost:8080/",
          "height": 35
        },
        "id": "C_SIFH1fPpO-",
        "outputId": "34afaf02-0e5d-49ad-aa88-439a028ca061"
      },
      "source": [
        "from sklearn.neighbors import KNeighborsRegressor\n",
        "\n",
        "# Standardize the training and test data\n",
        "scaler = StandardScaler()\n",
        "X_train_st = scaler.fit_transform(new)\n",
        "y_train = tips[\"tip\"]\n",
        "\n",
        "# Fit k-nearest neighbors\n",
        "model = KNeighborsRegressor(n_neighbors=8)\n",
        "model.fit(X=X_train_st, y=y_train)\n",
        "\"Root Mean Squared Error on Training data for KnearestNeighbors: \" + str(np.sqrt((model.predict(X=X_train_st)-tips[\"tip\"])**2).mean())"
      ],
      "execution_count": null,
      "outputs": [
        {
          "output_type": "execute_result",
          "data": {
            "application/vnd.google.colaboratory.intrinsic+json": {
              "type": "string"
            },
            "text/plain": [
              "'Root Mean Squared Error on Training data for KnearestNeighbors: 0.7015727459016398'"
            ]
          },
          "metadata": {
            "tags": []
          },
          "execution_count": 86
        }
      ]
    },
    {
      "cell_type": "code",
      "metadata": {
        "colab": {
          "base_uri": "https://localhost:8080/",
          "height": 35
        },
        "id": "bXdCTtNwPs2T",
        "outputId": "f49256f3-65e4-43ba-f9de-799a786cbc3a"
      },
      "source": [
        "from sklearn.linear_model import LinearRegression\n",
        "\n",
        "# Standardize the training and test data\n",
        "scaler = StandardScaler()\n",
        "X_train_st = scaler.fit_transform(new)\n",
        "y_train = tips[\"tip\"]\n",
        "\n",
        "# Fit k-nearest neighbors\n",
        "model = LinearRegression()\n",
        "model.fit(X=X_train_st, y=y_train)\n",
        "\"Root Mean Squared Error on Training data for LinearRegression: \" + str(np.sqrt((model.predict(X=X_train_st)-tips[\"tip\"])**2).mean())"
      ],
      "execution_count": null,
      "outputs": [
        {
          "output_type": "execute_result",
          "data": {
            "application/vnd.google.colaboratory.intrinsic+json": {
              "type": "string"
            },
            "text/plain": [
              "'Root Mean Squared Error on Training data for LinearRegression: 0.7387153912128794'"
            ]
          },
          "metadata": {
            "tags": []
          },
          "execution_count": 87
        }
      ]
    }
  ]
}